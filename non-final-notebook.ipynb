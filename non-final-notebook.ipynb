{
 "cells": [
  {
   "cell_type": "code",
   "execution_count": 72,
   "id": "8e27338d-cf74-465a-8902-a850f47dbfaf",
   "metadata": {
    "tags": []
   },
   "outputs": [],
   "source": [
    "import acquire as a\n",
    "import prepare as p\n",
    "\n",
    "import numpy as np\n",
    "import pandas as pd\n",
    "import matplotlib.pyplot as plt\n",
    "import seaborn as sns\n",
    " \n",
    "from scipy import stats\n",
    "from scipy.stats import ttest_ind, mannwhitneyu\n",
    "\n",
    "from sklearn.metrics import accuracy_score, classification_report, confusion_matrix\n",
    "from sklearn.tree import DecisionTreeClassifier, export_text, plot_tree\n",
    "from sklearn.ensemble import RandomForestClassifier\n",
    "from sklearn.linear_model import LogisticRegression\n",
    "from sklearn.neighbors import KNeighborsClassifier"
   ]
  },
  {
   "cell_type": "markdown",
   "id": "d4c50d20-e873-40e4-85c7-45054bd8a01e",
   "metadata": {},
   "source": [
    "## Acquiting and Preparing from the telco dataset."
   ]
  },
  {
   "cell_type": "code",
   "execution_count": 2,
   "id": "9080b67a-4092-4bf2-b276-2abc173c96d4",
   "metadata": {
    "tags": []
   },
   "outputs": [
    {
     "name": "stdout",
     "output_type": "stream",
     "text": [
      "this file exists, reading from csv\n"
     ]
    },
    {
     "data": {
      "text/html": [
       "<div>\n",
       "<style scoped>\n",
       "    .dataframe tbody tr th:only-of-type {\n",
       "        vertical-align: middle;\n",
       "    }\n",
       "\n",
       "    .dataframe tbody tr th {\n",
       "        vertical-align: top;\n",
       "    }\n",
       "\n",
       "    .dataframe thead th {\n",
       "        text-align: right;\n",
       "    }\n",
       "</style>\n",
       "<table border=\"1\" class=\"dataframe\">\n",
       "  <thead>\n",
       "    <tr style=\"text-align: right;\">\n",
       "      <th></th>\n",
       "      <th>payment_type_id</th>\n",
       "      <th>internet_service_type_id</th>\n",
       "      <th>contract_type_id</th>\n",
       "      <th>customer_id</th>\n",
       "      <th>gender</th>\n",
       "      <th>senior_citizen</th>\n",
       "      <th>partner</th>\n",
       "      <th>dependents</th>\n",
       "      <th>tenure</th>\n",
       "      <th>phone_service</th>\n",
       "      <th>...</th>\n",
       "      <th>tech_support</th>\n",
       "      <th>streaming_tv</th>\n",
       "      <th>streaming_movies</th>\n",
       "      <th>paperless_billing</th>\n",
       "      <th>monthly_charges</th>\n",
       "      <th>total_charges</th>\n",
       "      <th>churn</th>\n",
       "      <th>contract_type</th>\n",
       "      <th>internet_service_type</th>\n",
       "      <th>payment_type</th>\n",
       "    </tr>\n",
       "  </thead>\n",
       "  <tbody>\n",
       "    <tr>\n",
       "      <th>0</th>\n",
       "      <td>2</td>\n",
       "      <td>1</td>\n",
       "      <td>2</td>\n",
       "      <td>0002-ORFBO</td>\n",
       "      <td>Female</td>\n",
       "      <td>0</td>\n",
       "      <td>Yes</td>\n",
       "      <td>Yes</td>\n",
       "      <td>9</td>\n",
       "      <td>Yes</td>\n",
       "      <td>...</td>\n",
       "      <td>Yes</td>\n",
       "      <td>Yes</td>\n",
       "      <td>No</td>\n",
       "      <td>Yes</td>\n",
       "      <td>65.6</td>\n",
       "      <td>593.3</td>\n",
       "      <td>No</td>\n",
       "      <td>One year</td>\n",
       "      <td>DSL</td>\n",
       "      <td>Mailed check</td>\n",
       "    </tr>\n",
       "    <tr>\n",
       "      <th>1</th>\n",
       "      <td>2</td>\n",
       "      <td>1</td>\n",
       "      <td>1</td>\n",
       "      <td>0003-MKNFE</td>\n",
       "      <td>Male</td>\n",
       "      <td>0</td>\n",
       "      <td>No</td>\n",
       "      <td>No</td>\n",
       "      <td>9</td>\n",
       "      <td>Yes</td>\n",
       "      <td>...</td>\n",
       "      <td>No</td>\n",
       "      <td>No</td>\n",
       "      <td>Yes</td>\n",
       "      <td>No</td>\n",
       "      <td>59.9</td>\n",
       "      <td>542.4</td>\n",
       "      <td>No</td>\n",
       "      <td>Month-to-month</td>\n",
       "      <td>DSL</td>\n",
       "      <td>Mailed check</td>\n",
       "    </tr>\n",
       "    <tr>\n",
       "      <th>2</th>\n",
       "      <td>1</td>\n",
       "      <td>2</td>\n",
       "      <td>1</td>\n",
       "      <td>0004-TLHLJ</td>\n",
       "      <td>Male</td>\n",
       "      <td>0</td>\n",
       "      <td>No</td>\n",
       "      <td>No</td>\n",
       "      <td>4</td>\n",
       "      <td>Yes</td>\n",
       "      <td>...</td>\n",
       "      <td>No</td>\n",
       "      <td>No</td>\n",
       "      <td>No</td>\n",
       "      <td>Yes</td>\n",
       "      <td>73.9</td>\n",
       "      <td>280.85</td>\n",
       "      <td>Yes</td>\n",
       "      <td>Month-to-month</td>\n",
       "      <td>Fiber optic</td>\n",
       "      <td>Electronic check</td>\n",
       "    </tr>\n",
       "    <tr>\n",
       "      <th>3</th>\n",
       "      <td>1</td>\n",
       "      <td>2</td>\n",
       "      <td>1</td>\n",
       "      <td>0011-IGKFF</td>\n",
       "      <td>Male</td>\n",
       "      <td>1</td>\n",
       "      <td>Yes</td>\n",
       "      <td>No</td>\n",
       "      <td>13</td>\n",
       "      <td>Yes</td>\n",
       "      <td>...</td>\n",
       "      <td>No</td>\n",
       "      <td>Yes</td>\n",
       "      <td>Yes</td>\n",
       "      <td>Yes</td>\n",
       "      <td>98.0</td>\n",
       "      <td>1237.85</td>\n",
       "      <td>Yes</td>\n",
       "      <td>Month-to-month</td>\n",
       "      <td>Fiber optic</td>\n",
       "      <td>Electronic check</td>\n",
       "    </tr>\n",
       "    <tr>\n",
       "      <th>4</th>\n",
       "      <td>2</td>\n",
       "      <td>2</td>\n",
       "      <td>1</td>\n",
       "      <td>0013-EXCHZ</td>\n",
       "      <td>Female</td>\n",
       "      <td>1</td>\n",
       "      <td>Yes</td>\n",
       "      <td>No</td>\n",
       "      <td>3</td>\n",
       "      <td>Yes</td>\n",
       "      <td>...</td>\n",
       "      <td>Yes</td>\n",
       "      <td>Yes</td>\n",
       "      <td>No</td>\n",
       "      <td>Yes</td>\n",
       "      <td>83.9</td>\n",
       "      <td>267.4</td>\n",
       "      <td>Yes</td>\n",
       "      <td>Month-to-month</td>\n",
       "      <td>Fiber optic</td>\n",
       "      <td>Mailed check</td>\n",
       "    </tr>\n",
       "  </tbody>\n",
       "</table>\n",
       "<p>5 rows × 24 columns</p>\n",
       "</div>"
      ],
      "text/plain": [
       "   payment_type_id  internet_service_type_id  contract_type_id customer_id  \\\n",
       "0                2                         1                 2  0002-ORFBO   \n",
       "1                2                         1                 1  0003-MKNFE   \n",
       "2                1                         2                 1  0004-TLHLJ   \n",
       "3                1                         2                 1  0011-IGKFF   \n",
       "4                2                         2                 1  0013-EXCHZ   \n",
       "\n",
       "   gender  senior_citizen partner dependents  tenure phone_service  ...  \\\n",
       "0  Female               0     Yes        Yes       9           Yes  ...   \n",
       "1    Male               0      No         No       9           Yes  ...   \n",
       "2    Male               0      No         No       4           Yes  ...   \n",
       "3    Male               1     Yes         No      13           Yes  ...   \n",
       "4  Female               1     Yes         No       3           Yes  ...   \n",
       "\n",
       "  tech_support streaming_tv streaming_movies paperless_billing  \\\n",
       "0          Yes          Yes               No               Yes   \n",
       "1           No           No              Yes                No   \n",
       "2           No           No               No               Yes   \n",
       "3           No          Yes              Yes               Yes   \n",
       "4          Yes          Yes               No               Yes   \n",
       "\n",
       "  monthly_charges total_charges churn   contract_type  internet_service_type  \\\n",
       "0            65.6         593.3    No        One year                    DSL   \n",
       "1            59.9         542.4    No  Month-to-month                    DSL   \n",
       "2            73.9        280.85   Yes  Month-to-month            Fiber optic   \n",
       "3            98.0       1237.85   Yes  Month-to-month            Fiber optic   \n",
       "4            83.9         267.4   Yes  Month-to-month            Fiber optic   \n",
       "\n",
       "       payment_type  \n",
       "0      Mailed check  \n",
       "1      Mailed check  \n",
       "2  Electronic check  \n",
       "3  Electronic check  \n",
       "4      Mailed check  \n",
       "\n",
       "[5 rows x 24 columns]"
      ]
     },
     "execution_count": 2,
     "metadata": {},
     "output_type": "execute_result"
    }
   ],
   "source": [
    "df = a.get_telco_data()\n",
    "df.head()"
   ]
  },
  {
   "cell_type": "code",
   "execution_count": 3,
   "id": "da7ee99d-6f81-4a7d-828c-94d42b023cde",
   "metadata": {
    "tags": []
   },
   "outputs": [
    {
     "data": {
      "text/plain": [
       "(7043, 24)"
      ]
     },
     "execution_count": 3,
     "metadata": {},
     "output_type": "execute_result"
    }
   ],
   "source": [
    "df.shape"
   ]
  },
  {
   "cell_type": "code",
   "execution_count": 4,
   "id": "eaa56c9d-60be-4689-8d6d-e977b8ef3624",
   "metadata": {
    "tags": []
   },
   "outputs": [
    {
     "data": {
      "text/html": [
       "<div>\n",
       "<style scoped>\n",
       "    .dataframe tbody tr th:only-of-type {\n",
       "        vertical-align: middle;\n",
       "    }\n",
       "\n",
       "    .dataframe tbody tr th {\n",
       "        vertical-align: top;\n",
       "    }\n",
       "\n",
       "    .dataframe thead th {\n",
       "        text-align: right;\n",
       "    }\n",
       "</style>\n",
       "<table border=\"1\" class=\"dataframe\">\n",
       "  <thead>\n",
       "    <tr style=\"text-align: right;\">\n",
       "      <th></th>\n",
       "      <th>customer_id</th>\n",
       "      <th>gender</th>\n",
       "      <th>senior_citizen</th>\n",
       "      <th>partner</th>\n",
       "      <th>dependents</th>\n",
       "      <th>tenure</th>\n",
       "      <th>phone_service</th>\n",
       "      <th>multiple_lines</th>\n",
       "      <th>online_security</th>\n",
       "      <th>online_backup</th>\n",
       "      <th>...</th>\n",
       "      <th>tech_support</th>\n",
       "      <th>streaming_tv</th>\n",
       "      <th>streaming_movies</th>\n",
       "      <th>paperless_billing</th>\n",
       "      <th>monthly_charges</th>\n",
       "      <th>total_charges</th>\n",
       "      <th>churn</th>\n",
       "      <th>contract_type</th>\n",
       "      <th>internet_service_type</th>\n",
       "      <th>payment_type</th>\n",
       "    </tr>\n",
       "  </thead>\n",
       "  <tbody>\n",
       "    <tr>\n",
       "      <th>0</th>\n",
       "      <td>0002-ORFBO</td>\n",
       "      <td>Female</td>\n",
       "      <td>0</td>\n",
       "      <td>Yes</td>\n",
       "      <td>Yes</td>\n",
       "      <td>9</td>\n",
       "      <td>Yes</td>\n",
       "      <td>No</td>\n",
       "      <td>No</td>\n",
       "      <td>Yes</td>\n",
       "      <td>...</td>\n",
       "      <td>Yes</td>\n",
       "      <td>Yes</td>\n",
       "      <td>No</td>\n",
       "      <td>Yes</td>\n",
       "      <td>65.6</td>\n",
       "      <td>593.30</td>\n",
       "      <td>No</td>\n",
       "      <td>One year</td>\n",
       "      <td>DSL</td>\n",
       "      <td>Mailed check</td>\n",
       "    </tr>\n",
       "    <tr>\n",
       "      <th>1</th>\n",
       "      <td>0003-MKNFE</td>\n",
       "      <td>Male</td>\n",
       "      <td>0</td>\n",
       "      <td>No</td>\n",
       "      <td>No</td>\n",
       "      <td>9</td>\n",
       "      <td>Yes</td>\n",
       "      <td>Yes</td>\n",
       "      <td>No</td>\n",
       "      <td>No</td>\n",
       "      <td>...</td>\n",
       "      <td>No</td>\n",
       "      <td>No</td>\n",
       "      <td>Yes</td>\n",
       "      <td>No</td>\n",
       "      <td>59.9</td>\n",
       "      <td>542.40</td>\n",
       "      <td>No</td>\n",
       "      <td>Month-to-month</td>\n",
       "      <td>DSL</td>\n",
       "      <td>Mailed check</td>\n",
       "    </tr>\n",
       "    <tr>\n",
       "      <th>2</th>\n",
       "      <td>0004-TLHLJ</td>\n",
       "      <td>Male</td>\n",
       "      <td>0</td>\n",
       "      <td>No</td>\n",
       "      <td>No</td>\n",
       "      <td>4</td>\n",
       "      <td>Yes</td>\n",
       "      <td>No</td>\n",
       "      <td>No</td>\n",
       "      <td>No</td>\n",
       "      <td>...</td>\n",
       "      <td>No</td>\n",
       "      <td>No</td>\n",
       "      <td>No</td>\n",
       "      <td>Yes</td>\n",
       "      <td>73.9</td>\n",
       "      <td>280.85</td>\n",
       "      <td>Yes</td>\n",
       "      <td>Month-to-month</td>\n",
       "      <td>Fiber optic</td>\n",
       "      <td>Electronic check</td>\n",
       "    </tr>\n",
       "    <tr>\n",
       "      <th>3</th>\n",
       "      <td>0011-IGKFF</td>\n",
       "      <td>Male</td>\n",
       "      <td>1</td>\n",
       "      <td>Yes</td>\n",
       "      <td>No</td>\n",
       "      <td>13</td>\n",
       "      <td>Yes</td>\n",
       "      <td>No</td>\n",
       "      <td>No</td>\n",
       "      <td>Yes</td>\n",
       "      <td>...</td>\n",
       "      <td>No</td>\n",
       "      <td>Yes</td>\n",
       "      <td>Yes</td>\n",
       "      <td>Yes</td>\n",
       "      <td>98.0</td>\n",
       "      <td>1237.85</td>\n",
       "      <td>Yes</td>\n",
       "      <td>Month-to-month</td>\n",
       "      <td>Fiber optic</td>\n",
       "      <td>Electronic check</td>\n",
       "    </tr>\n",
       "    <tr>\n",
       "      <th>4</th>\n",
       "      <td>0013-EXCHZ</td>\n",
       "      <td>Female</td>\n",
       "      <td>1</td>\n",
       "      <td>Yes</td>\n",
       "      <td>No</td>\n",
       "      <td>3</td>\n",
       "      <td>Yes</td>\n",
       "      <td>No</td>\n",
       "      <td>No</td>\n",
       "      <td>No</td>\n",
       "      <td>...</td>\n",
       "      <td>Yes</td>\n",
       "      <td>Yes</td>\n",
       "      <td>No</td>\n",
       "      <td>Yes</td>\n",
       "      <td>83.9</td>\n",
       "      <td>267.40</td>\n",
       "      <td>Yes</td>\n",
       "      <td>Month-to-month</td>\n",
       "      <td>Fiber optic</td>\n",
       "      <td>Mailed check</td>\n",
       "    </tr>\n",
       "  </tbody>\n",
       "</table>\n",
       "<p>5 rows × 21 columns</p>\n",
       "</div>"
      ],
      "text/plain": [
       "  customer_id  gender  senior_citizen partner dependents  tenure  \\\n",
       "0  0002-ORFBO  Female               0     Yes        Yes       9   \n",
       "1  0003-MKNFE    Male               0      No         No       9   \n",
       "2  0004-TLHLJ    Male               0      No         No       4   \n",
       "3  0011-IGKFF    Male               1     Yes         No      13   \n",
       "4  0013-EXCHZ  Female               1     Yes         No       3   \n",
       "\n",
       "  phone_service multiple_lines online_security online_backup  ...  \\\n",
       "0           Yes             No              No           Yes  ...   \n",
       "1           Yes            Yes              No            No  ...   \n",
       "2           Yes             No              No            No  ...   \n",
       "3           Yes             No              No           Yes  ...   \n",
       "4           Yes             No              No            No  ...   \n",
       "\n",
       "  tech_support streaming_tv streaming_movies paperless_billing  \\\n",
       "0          Yes          Yes               No               Yes   \n",
       "1           No           No              Yes                No   \n",
       "2           No           No               No               Yes   \n",
       "3           No          Yes              Yes               Yes   \n",
       "4          Yes          Yes               No               Yes   \n",
       "\n",
       "  monthly_charges  total_charges  churn   contract_type internet_service_type  \\\n",
       "0            65.6         593.30     No        One year                   DSL   \n",
       "1            59.9         542.40     No  Month-to-month                   DSL   \n",
       "2            73.9         280.85    Yes  Month-to-month           Fiber optic   \n",
       "3            98.0        1237.85    Yes  Month-to-month           Fiber optic   \n",
       "4            83.9         267.40    Yes  Month-to-month           Fiber optic   \n",
       "\n",
       "       payment_type  \n",
       "0      Mailed check  \n",
       "1      Mailed check  \n",
       "2  Electronic check  \n",
       "3  Electronic check  \n",
       "4      Mailed check  \n",
       "\n",
       "[5 rows x 21 columns]"
      ]
     },
     "execution_count": 4,
     "metadata": {},
     "output_type": "execute_result"
    }
   ],
   "source": [
    "df = p.prep_telco(df)\n",
    "df.head()"
   ]
  },
  {
   "cell_type": "code",
   "execution_count": 5,
   "id": "bacb17fe-e1ec-4bd1-9b20-1b4db7928670",
   "metadata": {
    "tags": []
   },
   "outputs": [
    {
     "name": "stdout",
     "output_type": "stream",
     "text": [
      "<class 'pandas.core.frame.DataFrame'>\n",
      "Index: 7043 entries, 0 to 7042\n",
      "Data columns (total 21 columns):\n",
      " #   Column                 Non-Null Count  Dtype  \n",
      "---  ------                 --------------  -----  \n",
      " 0   customer_id            7043 non-null   object \n",
      " 1   gender                 7043 non-null   object \n",
      " 2   senior_citizen         7043 non-null   int64  \n",
      " 3   partner                7043 non-null   object \n",
      " 4   dependents             7043 non-null   object \n",
      " 5   tenure                 7043 non-null   int64  \n",
      " 6   phone_service          7043 non-null   object \n",
      " 7   multiple_lines         7043 non-null   object \n",
      " 8   online_security        7043 non-null   object \n",
      " 9   online_backup          7043 non-null   object \n",
      " 10  device_protection      7043 non-null   object \n",
      " 11  tech_support           7043 non-null   object \n",
      " 12  streaming_tv           7043 non-null   object \n",
      " 13  streaming_movies       7043 non-null   object \n",
      " 14  paperless_billing      7043 non-null   object \n",
      " 15  monthly_charges        7043 non-null   float64\n",
      " 16  total_charges          7043 non-null   float64\n",
      " 17  churn                  7043 non-null   object \n",
      " 18  contract_type          7043 non-null   object \n",
      " 19  internet_service_type  7043 non-null   object \n",
      " 20  payment_type           7043 non-null   object \n",
      "dtypes: float64(2), int64(2), object(17)\n",
      "memory usage: 1.2+ MB\n"
     ]
    }
   ],
   "source": [
    "df.info()"
   ]
  },
  {
   "cell_type": "code",
   "execution_count": 6,
   "id": "5bdc5240-615f-4cdc-a9e1-bcfdec7f9af4",
   "metadata": {
    "tags": []
   },
   "outputs": [],
   "source": [
    "df['internet_service_type'] = df['internet_service_type'].fillna('none')"
   ]
  },
  {
   "cell_type": "markdown",
   "id": "94d65b6d-39d0-4abc-8e74-4aa899d558fa",
   "metadata": {
    "tags": []
   },
   "source": [
    "## Split and Preprocess"
   ]
  },
  {
   "cell_type": "code",
   "execution_count": 7,
   "id": "9a72e424-ef6c-44fd-a090-528c49f0244c",
   "metadata": {
    "tags": []
   },
   "outputs": [
    {
     "data": {
      "text/html": [
       "<div>\n",
       "<style scoped>\n",
       "    .dataframe tbody tr th:only-of-type {\n",
       "        vertical-align: middle;\n",
       "    }\n",
       "\n",
       "    .dataframe tbody tr th {\n",
       "        vertical-align: top;\n",
       "    }\n",
       "\n",
       "    .dataframe thead th {\n",
       "        text-align: right;\n",
       "    }\n",
       "</style>\n",
       "<table border=\"1\" class=\"dataframe\">\n",
       "  <thead>\n",
       "    <tr style=\"text-align: right;\">\n",
       "      <th></th>\n",
       "      <th>customer_id</th>\n",
       "      <th>gender</th>\n",
       "      <th>senior_citizen</th>\n",
       "      <th>partner</th>\n",
       "      <th>dependents</th>\n",
       "      <th>tenure</th>\n",
       "      <th>phone_service</th>\n",
       "      <th>multiple_lines</th>\n",
       "      <th>online_security</th>\n",
       "      <th>online_backup</th>\n",
       "      <th>...</th>\n",
       "      <th>tech_support</th>\n",
       "      <th>streaming_tv</th>\n",
       "      <th>streaming_movies</th>\n",
       "      <th>paperless_billing</th>\n",
       "      <th>monthly_charges</th>\n",
       "      <th>total_charges</th>\n",
       "      <th>churn</th>\n",
       "      <th>contract_type</th>\n",
       "      <th>internet_service_type</th>\n",
       "      <th>payment_type</th>\n",
       "    </tr>\n",
       "  </thead>\n",
       "  <tbody>\n",
       "    <tr>\n",
       "      <th>2865</th>\n",
       "      <td>4083-BFNYK</td>\n",
       "      <td>Female</td>\n",
       "      <td>1</td>\n",
       "      <td>Yes</td>\n",
       "      <td>No</td>\n",
       "      <td>38</td>\n",
       "      <td>Yes</td>\n",
       "      <td>Yes</td>\n",
       "      <td>Yes</td>\n",
       "      <td>Yes</td>\n",
       "      <td>...</td>\n",
       "      <td>No</td>\n",
       "      <td>No</td>\n",
       "      <td>Yes</td>\n",
       "      <td>No</td>\n",
       "      <td>95.00</td>\n",
       "      <td>3591.25</td>\n",
       "      <td>No</td>\n",
       "      <td>One year</td>\n",
       "      <td>Fiber optic</td>\n",
       "      <td>Credit card (automatic)</td>\n",
       "    </tr>\n",
       "    <tr>\n",
       "      <th>4107</th>\n",
       "      <td>5804-LEPIM</td>\n",
       "      <td>Female</td>\n",
       "      <td>1</td>\n",
       "      <td>No</td>\n",
       "      <td>No</td>\n",
       "      <td>2</td>\n",
       "      <td>Yes</td>\n",
       "      <td>No</td>\n",
       "      <td>No</td>\n",
       "      <td>No</td>\n",
       "      <td>...</td>\n",
       "      <td>No</td>\n",
       "      <td>No</td>\n",
       "      <td>No</td>\n",
       "      <td>Yes</td>\n",
       "      <td>70.35</td>\n",
       "      <td>139.05</td>\n",
       "      <td>Yes</td>\n",
       "      <td>Month-to-month</td>\n",
       "      <td>Fiber optic</td>\n",
       "      <td>Electronic check</td>\n",
       "    </tr>\n",
       "    <tr>\n",
       "      <th>3453</th>\n",
       "      <td>4895-TMWIR</td>\n",
       "      <td>Male</td>\n",
       "      <td>1</td>\n",
       "      <td>Yes</td>\n",
       "      <td>No</td>\n",
       "      <td>11</td>\n",
       "      <td>Yes</td>\n",
       "      <td>No</td>\n",
       "      <td>No internet service</td>\n",
       "      <td>No internet service</td>\n",
       "      <td>...</td>\n",
       "      <td>No internet service</td>\n",
       "      <td>No internet service</td>\n",
       "      <td>No internet service</td>\n",
       "      <td>No</td>\n",
       "      <td>19.95</td>\n",
       "      <td>214.75</td>\n",
       "      <td>Yes</td>\n",
       "      <td>Month-to-month</td>\n",
       "      <td>none</td>\n",
       "      <td>Mailed check</td>\n",
       "    </tr>\n",
       "    <tr>\n",
       "      <th>923</th>\n",
       "      <td>1342-JPNKI</td>\n",
       "      <td>Male</td>\n",
       "      <td>0</td>\n",
       "      <td>No</td>\n",
       "      <td>No</td>\n",
       "      <td>10</td>\n",
       "      <td>Yes</td>\n",
       "      <td>Yes</td>\n",
       "      <td>No</td>\n",
       "      <td>No</td>\n",
       "      <td>...</td>\n",
       "      <td>No</td>\n",
       "      <td>Yes</td>\n",
       "      <td>No</td>\n",
       "      <td>Yes</td>\n",
       "      <td>86.05</td>\n",
       "      <td>834.10</td>\n",
       "      <td>Yes</td>\n",
       "      <td>Month-to-month</td>\n",
       "      <td>Fiber optic</td>\n",
       "      <td>Bank transfer (automatic)</td>\n",
       "    </tr>\n",
       "    <tr>\n",
       "      <th>2370</th>\n",
       "      <td>3397-AVTKU</td>\n",
       "      <td>Male</td>\n",
       "      <td>0</td>\n",
       "      <td>No</td>\n",
       "      <td>No</td>\n",
       "      <td>43</td>\n",
       "      <td>Yes</td>\n",
       "      <td>No</td>\n",
       "      <td>No</td>\n",
       "      <td>Yes</td>\n",
       "      <td>...</td>\n",
       "      <td>No</td>\n",
       "      <td>No</td>\n",
       "      <td>Yes</td>\n",
       "      <td>Yes</td>\n",
       "      <td>60.00</td>\n",
       "      <td>2548.55</td>\n",
       "      <td>No</td>\n",
       "      <td>Two year</td>\n",
       "      <td>DSL</td>\n",
       "      <td>Electronic check</td>\n",
       "    </tr>\n",
       "  </tbody>\n",
       "</table>\n",
       "<p>5 rows × 21 columns</p>\n",
       "</div>"
      ],
      "text/plain": [
       "     customer_id  gender  senior_citizen partner dependents  tenure  \\\n",
       "2865  4083-BFNYK  Female               1     Yes         No      38   \n",
       "4107  5804-LEPIM  Female               1      No         No       2   \n",
       "3453  4895-TMWIR    Male               1     Yes         No      11   \n",
       "923   1342-JPNKI    Male               0      No         No      10   \n",
       "2370  3397-AVTKU    Male               0      No         No      43   \n",
       "\n",
       "     phone_service multiple_lines      online_security        online_backup  \\\n",
       "2865           Yes            Yes                  Yes                  Yes   \n",
       "4107           Yes             No                   No                   No   \n",
       "3453           Yes             No  No internet service  No internet service   \n",
       "923            Yes            Yes                   No                   No   \n",
       "2370           Yes             No                   No                  Yes   \n",
       "\n",
       "      ...         tech_support         streaming_tv     streaming_movies  \\\n",
       "2865  ...                   No                   No                  Yes   \n",
       "4107  ...                   No                   No                   No   \n",
       "3453  ...  No internet service  No internet service  No internet service   \n",
       "923   ...                   No                  Yes                   No   \n",
       "2370  ...                   No                   No                  Yes   \n",
       "\n",
       "     paperless_billing monthly_charges  total_charges  churn   contract_type  \\\n",
       "2865                No           95.00        3591.25     No        One year   \n",
       "4107               Yes           70.35         139.05    Yes  Month-to-month   \n",
       "3453                No           19.95         214.75    Yes  Month-to-month   \n",
       "923                Yes           86.05         834.10    Yes  Month-to-month   \n",
       "2370               Yes           60.00        2548.55     No        Two year   \n",
       "\n",
       "     internet_service_type               payment_type  \n",
       "2865           Fiber optic    Credit card (automatic)  \n",
       "4107           Fiber optic           Electronic check  \n",
       "3453                  none               Mailed check  \n",
       "923            Fiber optic  Bank transfer (automatic)  \n",
       "2370                   DSL           Electronic check  \n",
       "\n",
       "[5 rows x 21 columns]"
      ]
     },
     "execution_count": 7,
     "metadata": {},
     "output_type": "execute_result"
    }
   ],
   "source": [
    "train, validate, test = p.split_data(df, 'churn')\n",
    "train.head()"
   ]
  },
  {
   "cell_type": "code",
   "execution_count": 8,
   "id": "e0c14d4e-1bec-4ad7-aa8e-31a13a235941",
   "metadata": {
    "tags": []
   },
   "outputs": [],
   "source": [
    "train_encoded, val_encoded, test_encoded = p.telco_encoded(train, validate, test)"
   ]
  },
  {
   "cell_type": "code",
   "execution_count": 9,
   "id": "e0037b70-631a-4503-9d26-72a9b9ed18b7",
   "metadata": {
    "tags": []
   },
   "outputs": [
    {
     "data": {
      "text/html": [
       "<div>\n",
       "<style scoped>\n",
       "    .dataframe tbody tr th:only-of-type {\n",
       "        vertical-align: middle;\n",
       "    }\n",
       "\n",
       "    .dataframe tbody tr th {\n",
       "        vertical-align: top;\n",
       "    }\n",
       "\n",
       "    .dataframe thead th {\n",
       "        text-align: right;\n",
       "    }\n",
       "</style>\n",
       "<table border=\"1\" class=\"dataframe\">\n",
       "  <thead>\n",
       "    <tr style=\"text-align: right;\">\n",
       "      <th></th>\n",
       "      <th>customer_id</th>\n",
       "      <th>senior_citizen</th>\n",
       "      <th>tenure</th>\n",
       "      <th>monthly_charges</th>\n",
       "      <th>total_charges</th>\n",
       "      <th>gender_Male</th>\n",
       "      <th>partner_Yes</th>\n",
       "      <th>dependents_Yes</th>\n",
       "      <th>phone_service_Yes</th>\n",
       "      <th>multiple_lines_No phone service</th>\n",
       "      <th>...</th>\n",
       "      <th>streaming_movies_Yes</th>\n",
       "      <th>paperless_billing_Yes</th>\n",
       "      <th>churn_Yes</th>\n",
       "      <th>contract_type_One year</th>\n",
       "      <th>contract_type_Two year</th>\n",
       "      <th>internet_service_type_Fiber optic</th>\n",
       "      <th>internet_service_type_none</th>\n",
       "      <th>payment_type_Credit card (automatic)</th>\n",
       "      <th>payment_type_Electronic check</th>\n",
       "      <th>payment_type_Mailed check</th>\n",
       "    </tr>\n",
       "  </thead>\n",
       "  <tbody>\n",
       "    <tr>\n",
       "      <th>2865</th>\n",
       "      <td>4083-BFNYK</td>\n",
       "      <td>1</td>\n",
       "      <td>38</td>\n",
       "      <td>95.00</td>\n",
       "      <td>3591.25</td>\n",
       "      <td>0</td>\n",
       "      <td>1</td>\n",
       "      <td>0</td>\n",
       "      <td>1</td>\n",
       "      <td>0</td>\n",
       "      <td>...</td>\n",
       "      <td>1</td>\n",
       "      <td>0</td>\n",
       "      <td>0</td>\n",
       "      <td>1</td>\n",
       "      <td>0</td>\n",
       "      <td>1</td>\n",
       "      <td>0</td>\n",
       "      <td>1</td>\n",
       "      <td>0</td>\n",
       "      <td>0</td>\n",
       "    </tr>\n",
       "    <tr>\n",
       "      <th>4107</th>\n",
       "      <td>5804-LEPIM</td>\n",
       "      <td>1</td>\n",
       "      <td>2</td>\n",
       "      <td>70.35</td>\n",
       "      <td>139.05</td>\n",
       "      <td>0</td>\n",
       "      <td>0</td>\n",
       "      <td>0</td>\n",
       "      <td>1</td>\n",
       "      <td>0</td>\n",
       "      <td>...</td>\n",
       "      <td>0</td>\n",
       "      <td>1</td>\n",
       "      <td>1</td>\n",
       "      <td>0</td>\n",
       "      <td>0</td>\n",
       "      <td>1</td>\n",
       "      <td>0</td>\n",
       "      <td>0</td>\n",
       "      <td>1</td>\n",
       "      <td>0</td>\n",
       "    </tr>\n",
       "    <tr>\n",
       "      <th>3453</th>\n",
       "      <td>4895-TMWIR</td>\n",
       "      <td>1</td>\n",
       "      <td>11</td>\n",
       "      <td>19.95</td>\n",
       "      <td>214.75</td>\n",
       "      <td>1</td>\n",
       "      <td>1</td>\n",
       "      <td>0</td>\n",
       "      <td>1</td>\n",
       "      <td>0</td>\n",
       "      <td>...</td>\n",
       "      <td>0</td>\n",
       "      <td>0</td>\n",
       "      <td>1</td>\n",
       "      <td>0</td>\n",
       "      <td>0</td>\n",
       "      <td>0</td>\n",
       "      <td>1</td>\n",
       "      <td>0</td>\n",
       "      <td>0</td>\n",
       "      <td>1</td>\n",
       "    </tr>\n",
       "    <tr>\n",
       "      <th>923</th>\n",
       "      <td>1342-JPNKI</td>\n",
       "      <td>0</td>\n",
       "      <td>10</td>\n",
       "      <td>86.05</td>\n",
       "      <td>834.10</td>\n",
       "      <td>1</td>\n",
       "      <td>0</td>\n",
       "      <td>0</td>\n",
       "      <td>1</td>\n",
       "      <td>0</td>\n",
       "      <td>...</td>\n",
       "      <td>0</td>\n",
       "      <td>1</td>\n",
       "      <td>1</td>\n",
       "      <td>0</td>\n",
       "      <td>0</td>\n",
       "      <td>1</td>\n",
       "      <td>0</td>\n",
       "      <td>0</td>\n",
       "      <td>0</td>\n",
       "      <td>0</td>\n",
       "    </tr>\n",
       "    <tr>\n",
       "      <th>2370</th>\n",
       "      <td>3397-AVTKU</td>\n",
       "      <td>0</td>\n",
       "      <td>43</td>\n",
       "      <td>60.00</td>\n",
       "      <td>2548.55</td>\n",
       "      <td>1</td>\n",
       "      <td>0</td>\n",
       "      <td>0</td>\n",
       "      <td>1</td>\n",
       "      <td>0</td>\n",
       "      <td>...</td>\n",
       "      <td>1</td>\n",
       "      <td>1</td>\n",
       "      <td>0</td>\n",
       "      <td>0</td>\n",
       "      <td>1</td>\n",
       "      <td>0</td>\n",
       "      <td>0</td>\n",
       "      <td>0</td>\n",
       "      <td>1</td>\n",
       "      <td>0</td>\n",
       "    </tr>\n",
       "  </tbody>\n",
       "</table>\n",
       "<p>5 rows × 32 columns</p>\n",
       "</div>"
      ],
      "text/plain": [
       "     customer_id  senior_citizen  tenure  monthly_charges  total_charges  \\\n",
       "2865  4083-BFNYK               1      38            95.00        3591.25   \n",
       "4107  5804-LEPIM               1       2            70.35         139.05   \n",
       "3453  4895-TMWIR               1      11            19.95         214.75   \n",
       "923   1342-JPNKI               0      10            86.05         834.10   \n",
       "2370  3397-AVTKU               0      43            60.00        2548.55   \n",
       "\n",
       "      gender_Male  partner_Yes  dependents_Yes  phone_service_Yes  \\\n",
       "2865            0            1               0                  1   \n",
       "4107            0            0               0                  1   \n",
       "3453            1            1               0                  1   \n",
       "923             1            0               0                  1   \n",
       "2370            1            0               0                  1   \n",
       "\n",
       "      multiple_lines_No phone service  ...  streaming_movies_Yes  \\\n",
       "2865                                0  ...                     1   \n",
       "4107                                0  ...                     0   \n",
       "3453                                0  ...                     0   \n",
       "923                                 0  ...                     0   \n",
       "2370                                0  ...                     1   \n",
       "\n",
       "      paperless_billing_Yes  churn_Yes  contract_type_One year  \\\n",
       "2865                      0          0                       1   \n",
       "4107                      1          1                       0   \n",
       "3453                      0          1                       0   \n",
       "923                       1          1                       0   \n",
       "2370                      1          0                       0   \n",
       "\n",
       "      contract_type_Two year  internet_service_type_Fiber optic  \\\n",
       "2865                       0                                  1   \n",
       "4107                       0                                  1   \n",
       "3453                       0                                  0   \n",
       "923                        0                                  1   \n",
       "2370                       1                                  0   \n",
       "\n",
       "      internet_service_type_none  payment_type_Credit card (automatic)  \\\n",
       "2865                           0                                     1   \n",
       "4107                           0                                     0   \n",
       "3453                           1                                     0   \n",
       "923                            0                                     0   \n",
       "2370                           0                                     0   \n",
       "\n",
       "      payment_type_Electronic check  payment_type_Mailed check  \n",
       "2865                              0                          0  \n",
       "4107                              1                          0  \n",
       "3453                              0                          1  \n",
       "923                               0                          0  \n",
       "2370                              1                          0  \n",
       "\n",
       "[5 rows x 32 columns]"
      ]
     },
     "execution_count": 9,
     "metadata": {},
     "output_type": "execute_result"
    }
   ],
   "source": [
    "train_encoded.head()"
   ]
  },
  {
   "cell_type": "markdown",
   "id": "71d1802b-ffb3-446f-aad4-55ed0f148893",
   "metadata": {},
   "source": [
    "## Exploring"
   ]
  },
  {
   "cell_type": "code",
   "execution_count": 10,
   "id": "bb3a69cd-a112-4fe2-8dc5-6c9d0880c6ca",
   "metadata": {
    "tags": []
   },
   "outputs": [
    {
     "data": {
      "image/png": "[encoded data removed]",
      "text/plain": [
       "<Figure size 640x480 with 1 Axes>"
      ]
     },
     "metadata": {},
     "output_type": "display_data"
    }
   ],
   "source": [
    "churn_count = (train_encoded.churn_Yes == 1).sum()\n",
    "no_churn_count = (train_encoded.churn_Yes == 0).sum()\n",
    "values = [no_churn_count, churn_count]\n",
    "labels = ['Not Churned', 'Churned']\n",
    "\n",
    "plt.pie(values, labels=labels, colors=['green', 'red'], autopct='%1.1f%%')\n",
    "plt.title('Percentages of Customers Who Churned and Did Not Churn')\n",
    "plt.show()"
   ]
  },
  {
   "cell_type": "code",
   "execution_count": 66,
   "id": "fef1d02a-571f-4d9f-89cd-0d547bf5e9a7",
   "metadata": {
    "tags": []
   },
   "outputs": [
    {
     "data": {
      "image/png": "[encoded data removed]",
      "text/plain": [
       "<Figure size 640x480 with 1 Axes>"
      ]
     },
     "metadata": {},
     "output_type": "display_data"
    }
   ],
   "source": [
    "sns.barplot(data=train_encoded,x='gender_Male', y='churn_Yes')\n",
    "plt.ylabel('Churn Rate')\n",
    "plt.xlabel('Gender is Male')\n",
    "plt.title('Does Gender and Monthly Charges Affect Churn?')\n",
    "plt.show()"
   ]
  },
  {
   "cell_type": "markdown",
   "id": "95e52ad3-3e00-47d8-846f-25822220de6c",
   "metadata": {
    "tags": []
   },
   "source": [
    "\n",
    "$H_0$: There is NO relationship between Gender and Churn.\n",
    "\n",
    "$H_a$: There IS relationship between Gender and Churn.\n",
    "\n",
    "**α**= 0.05"
   ]
  },
  {
   "cell_type": "code",
   "execution_count": 69,
   "id": "6584c5a3-dc0b-4cc5-9d3f-a28f6a8095e1",
   "metadata": {
    "tags": []
   },
   "outputs": [
    {
     "name": "stdout",
     "output_type": "stream",
     "text": [
      "Observed\n",
      "[[1550  559]\n",
      " [1554  562]]\n",
      "\n",
      "Expected\n",
      "[[1549  559]\n",
      " [1554  561]]\n",
      "\n",
      "----\n",
      "chi^2 = 0.0000\n",
      "p     = 0.9960\n"
     ]
    }
   ],
   "source": [
    "alpha = 0.05\n",
    "observed = pd.crosstab(train_encoded.gender_Male,train_encoded.churn_Yes)\n",
    "chi2, p, dof, expected = stats.chi2_contingency(observed)\n",
    "print('Observed')\n",
    "print(observed.values)\n",
    "print('\\nExpected')\n",
    "print(expected.astype(int))\n",
    "print('\\n----')\n",
    "print(f'chi^2 = {chi2:.4f}')\n",
    "print(f'p     = {p:.4f}')"
   ]
  },
  {
   "cell_type": "code",
   "execution_count": 70,
   "id": "caff3ab5-1a29-4148-9d9d-90f5a44cac8b",
   "metadata": {
    "tags": []
   },
   "outputs": [
    {
     "name": "stdout",
     "output_type": "stream",
     "text": [
      "Fail to reject the null hypothesis\n"
     ]
    }
   ],
   "source": [
    "if p < alpha:\n",
    "    print('Reject the null hypothesis')\n",
    "else:\n",
    "    print('Fail to reject the null hypothesis')"
   ]
  },
  {
   "cell_type": "code",
   "execution_count": 12,
   "id": "58e6c4d0-429e-4e47-80e5-9a335d2afcc4",
   "metadata": {
    "tags": []
   },
   "outputs": [
    {
     "data": {
      "text/plain": [
       "<Axes: xlabel='tenure', ylabel='monthly_charges'>"
      ]
     },
     "execution_count": 12,
     "metadata": {},
     "output_type": "execute_result"
    },
    {
     "data": {
      "image/png": "[encoded data removed]",
      "text/plain": [
       "<Figure size 1100x500 with 2 Axes>"
      ]
     },
     "metadata": {},
     "output_type": "display_data"
    }
   ],
   "source": [
    "fig, axes = plt.subplots(nrows=1, ncols=2, figsize=(11, 5))\n",
    "sns.lineplot(data=train_encoded,x='tenure', y='monthly_charges', hue='churn_Yes', ax=axes[0])\n",
    "sns.kdeplot(data=train_encoded,x='tenure', y='monthly_charges',hue='churn_Yes', ax=axes[1], fill=True, alpha=0.65)"
   ]
  },
  {
   "cell_type": "markdown",
   "id": "12c2ed05-50d9-4741-9a7a-0156c2878d54",
   "metadata": {
    "tags": []
   },
   "source": [
    "$H_0$: There is NO relationship between Monthly Charges and Churn.\n",
    "\n",
    "$H_a$: There IS relationship between Monthly Charges and Churn.\n",
    "\n",
    "**α**= 0.05"
   ]
  },
  {
   "cell_type": "code",
   "execution_count": 76,
   "id": "a005c441-a032-49bd-940b-75659646d35e",
   "metadata": {
    "tags": []
   },
   "outputs": [
    {
     "name": "stdout",
     "output_type": "stream",
     "text": [
      "Reject the null hypothesis\n"
     ]
    }
   ],
   "source": [
    "group1 = train_encoded[train_encoded['churn_Yes'] == 0]['monthly_charges']\n",
    "group2 = train_encoded[train_encoded['churn_Yes'] == 1]['monthly_charges']\n",
    "u_stat, p_value = mannwhitneyu(group1, group2)\n",
    "if p_value < alpha:\n",
    "    print(\"Reject the null hypothesis\")\n",
    "else:\n",
    "    print(\"Fail to reject the null hypothesis\")"
   ]
  },
  {
   "cell_type": "code",
   "execution_count": 13,
   "id": "d075fdef-7e19-43af-a553-03a1f921ae37",
   "metadata": {
    "tags": []
   },
   "outputs": [
    {
     "data": {
      "text/plain": [
       "<matplotlib.legend.Legend at 0x296c9bb50>"
      ]
     },
     "execution_count": 13,
     "metadata": {},
     "output_type": "execute_result"
    },
    {
     "data": {
      "image/png": "[encoded data removed]",
      "text/plain": [
       "<Figure size 1100x500 with 2 Axes>"
      ]
     },
     "metadata": {},
     "output_type": "display_data"
    }
   ],
   "source": [
    "fig, axes = plt.subplots(nrows=1, ncols=2, figsize=(11, 5))\n",
    "sns.boxplot(data=train_encoded,x='senior_citizen', y='monthly_charges', hue='churn_Yes', ax=axes[0])\n",
    "sns.boxplot(data=train_encoded,x='senior_citizen', y='tenure', hue='churn_Yes', ax=axes[1])\n",
    "axes[0].legend(title='Churn_Yes', loc='upper right')\n",
    "axes[1].legend(title='Churn_Yes', loc='upper right')"
   ]
  },
  {
   "cell_type": "markdown",
   "id": "accb8ff0-f101-4a23-98fe-acf546f245ba",
   "metadata": {},
   "source": [
    "$H_0$: There is NO relationship between Monthly Charges and Senior Citizens.\n",
    "\n",
    "$H_a$: There IS relationship between Monthly Charges and Senior Citizens.\n",
    "\n",
    "**α**= 0.05"
   ]
  },
  {
   "cell_type": "code",
   "execution_count": 77,
   "id": "6395f4b8-ab68-40f7-a8a2-bb5a5f796347",
   "metadata": {
    "tags": []
   },
   "outputs": [
    {
     "name": "stdout",
     "output_type": "stream",
     "text": [
      "Reject the null hypothesis\n"
     ]
    }
   ],
   "source": [
    "group1 = train_encoded[train_encoded['senior_citizen'] == 0]['monthly_charges']\n",
    "group2 = train_encoded[train_encoded['senior_citizen'] == 1]['monthly_charges']\n",
    "u_stat, p_value = mannwhitneyu(group1, group2)\n",
    "if p_value < alpha:\n",
    "    print(\"Reject the null hypothesis\")\n",
    "else:\n",
    "    print(\"Fail to reject the null hypothesis\")"
   ]
  },
  {
   "cell_type": "markdown",
   "id": "3490f599-d511-4598-97f0-7c1a5d38fd98",
   "metadata": {},
   "source": [
    "$H_0$: There is NO relationship between Tenure and Senior Citizens.\n",
    "\n",
    "$H_a$: There IS relationship between Tenure and Senior Citizens.\n",
    "\n",
    "**α**= 0.05"
   ]
  },
  {
   "cell_type": "code",
   "execution_count": 78,
   "id": "d90a9d94-b4a8-4f98-8970-049a15e09ffa",
   "metadata": {
    "tags": []
   },
   "outputs": [
    {
     "name": "stdout",
     "output_type": "stream",
     "text": [
      "Fail to reject the null hypothesis\n"
     ]
    }
   ],
   "source": [
    "group1 = train_encoded[train_encoded['senior_citizen'] == 0]['tenure']\n",
    "group2 = train_encoded[train_encoded['senior_citizen'] == 1]['tenure']\n",
    "\n",
    "t_stat, p_value = ttest_ind(group1, group2)\n",
    "if p_value < alpha:\n",
    "    print(\"Reject the null hypothesis\")\n",
    "else:\n",
    "    print(\"Fail to reject the null hypothesis\")"
   ]
  },
  {
   "cell_type": "markdown",
   "id": "9f8ad0d3-7e86-4af0-9e3d-9caaaf9d8537",
   "metadata": {},
   "source": [
    "$H_0$: There is NO relationship between Churn and Senior Citizens.\n",
    "\n",
    "$H_a$: There IS relationship between Churn and Senior Citizens.\n",
    "\n",
    "**α**= 0.05"
   ]
  },
  {
   "cell_type": "code",
   "execution_count": 80,
   "id": "c9cbe391-3ced-4c90-972c-df8124c216da",
   "metadata": {
    "tags": []
   },
   "outputs": [
    {
     "name": "stdout",
     "output_type": "stream",
     "text": [
      "Observed\n",
      "[[2696  835]\n",
      " [ 408  286]]\n",
      "\n",
      "Expected\n",
      "[[2594  936]\n",
      " [ 509  184]]\n",
      "\n",
      "----\n",
      "chi^2 = 90.8792\n",
      "p     = 0.0000\n"
     ]
    }
   ],
   "source": [
    "alpha = 0.05\n",
    "observed = pd.crosstab(train_encoded.senior_citizen,train_encoded.churn_Yes)\n",
    "chi2, p, dof, expected = stats.chi2_contingency(observed)\n",
    "print('Observed')\n",
    "print(observed.values)\n",
    "print('\\nExpected')\n",
    "print(expected.astype(int))\n",
    "print('\\n----')\n",
    "print(f'chi^2 = {chi2:.4f}')\n",
    "print(f'p     = {p:.4f}')"
   ]
  },
  {
   "cell_type": "code",
   "execution_count": 82,
   "id": "9f455ebf-570d-4a7b-9008-287d3f257104",
   "metadata": {
    "tags": []
   },
   "outputs": [
    {
     "name": "stdout",
     "output_type": "stream",
     "text": [
      "Reject the null hypothesis\n"
     ]
    }
   ],
   "source": [
    "if p < alpha:\n",
    "    print(\"Reject the null hypothesis\")\n",
    "else:\n",
    "    print(\"Fail to reject the null hypothesis\")"
   ]
  },
  {
   "cell_type": "markdown",
   "id": "d4529ccc-8388-4703-8a9d-d0e0597c7f8f",
   "metadata": {},
   "source": [
    "## Modeling"
   ]
  },
  {
   "cell_type": "code",
   "execution_count": 15,
   "id": "efb2b7ab-4e97-4758-91d6-c0e20d4a6d2c",
   "metadata": {
    "tags": []
   },
   "outputs": [],
   "source": [
    "\n",
    "X_train = train_encoded.drop(columns=['churn_Yes', 'customer_id'])\n",
    "y_train = train_encoded.churn_Yes\n",
    "\n",
    "X_validate = val_encoded.drop(columns=['churn_Yes', 'customer_id'])\n",
    "y_validate = val_encoded.churn_Yes\n",
    "\n",
    "X_test = test_encoded.drop(columns=['churn_Yes', 'customer_id'])\n",
    "y_test = test_encoded.churn_Yes"
   ]
  },
  {
   "cell_type": "code",
   "execution_count": 16,
   "id": "eaf05430-7413-439c-92ec-615be017e826",
   "metadata": {
    "tags": []
   },
   "outputs": [
    {
     "data": {
      "text/plain": [
       "0    No\n",
       "Name: churn, dtype: object"
      ]
     },
     "execution_count": 16,
     "metadata": {},
     "output_type": "execute_result"
    }
   ],
   "source": [
    "df.churn.mode()"
   ]
  },
  {
   "cell_type": "code",
   "execution_count": 17,
   "id": "a3b9dd4a-a5b7-4518-a4ad-f2fe2f023cb0",
   "metadata": {
    "tags": []
   },
   "outputs": [
    {
     "data": {
      "text/plain": [
       "0.7346301292063041"
      ]
     },
     "execution_count": 17,
     "metadata": {},
     "output_type": "execute_result"
    }
   ],
   "source": [
    "(df.churn == 'No').mean()"
   ]
  },
  {
   "cell_type": "markdown",
   "id": "931b5cde-a7c9-41cb-8444-f1302301d9ec",
   "metadata": {},
   "source": [
    "> Baseline is 73.46% customer does not churn"
   ]
  },
  {
   "cell_type": "markdown",
   "id": "a66e61b6-014f-4d57-a69f-b4538b181023",
   "metadata": {},
   "source": [
    "**Decision Tree**"
   ]
  },
  {
   "cell_type": "code",
   "execution_count": 40,
   "id": "fe5153d3-519b-4eb7-a0f9-9d54469eb051",
   "metadata": {
    "tags": []
   },
   "outputs": [
    {
     "data": {
      "text/plain": [
       "array([0, 1, 0, 1, 0, 0, 0, 0, 0, 0])"
      ]
     },
     "execution_count": 40,
     "metadata": {},
     "output_type": "execute_result"
    }
   ],
   "source": [
    "tree = DecisionTreeClassifier(max_depth=3, random_state = 123)\n",
    "tree.fit(X_train, y_train)\n",
    "y_pred = tree.predict(X_train)\n",
    "y_pred[:10]"
   ]
  },
  {
   "cell_type": "code",
   "execution_count": 41,
   "id": "415e3716-7004-4371-a7c8-a06063dd54be",
   "metadata": {
    "tags": []
   },
   "outputs": [
    {
     "data": {
      "text/plain": [
       "0.7836686390532545"
      ]
     },
     "execution_count": 41,
     "metadata": {},
     "output_type": "execute_result"
    }
   ],
   "source": [
    "#accuracy score\n",
    "tree.score(X_train, y_train)"
   ]
  },
  {
   "cell_type": "code",
   "execution_count": 42,
   "id": "5e18952b-d0ad-4b5a-9fce-291fbbb9dc59",
   "metadata": {
    "tags": []
   },
   "outputs": [
    {
     "data": {
      "text/html": [
       "<div>\n",
       "<style scoped>\n",
       "    .dataframe tbody tr th:only-of-type {\n",
       "        vertical-align: middle;\n",
       "    }\n",
       "\n",
       "    .dataframe tbody tr th {\n",
       "        vertical-align: top;\n",
       "    }\n",
       "\n",
       "    .dataframe thead th {\n",
       "        text-align: right;\n",
       "    }\n",
       "</style>\n",
       "<table border=\"1\" class=\"dataframe\">\n",
       "  <thead>\n",
       "    <tr style=\"text-align: right;\">\n",
       "      <th>col_0</th>\n",
       "      <th>0</th>\n",
       "      <th>1</th>\n",
       "    </tr>\n",
       "    <tr>\n",
       "      <th>churn_Yes</th>\n",
       "      <th></th>\n",
       "      <th></th>\n",
       "    </tr>\n",
       "  </thead>\n",
       "  <tbody>\n",
       "    <tr>\n",
       "      <th>0</th>\n",
       "      <td>2950</td>\n",
       "      <td>154</td>\n",
       "    </tr>\n",
       "    <tr>\n",
       "      <th>1</th>\n",
       "      <td>760</td>\n",
       "      <td>361</td>\n",
       "    </tr>\n",
       "  </tbody>\n",
       "</table>\n",
       "</div>"
      ],
      "text/plain": [
       "col_0         0    1\n",
       "churn_Yes           \n",
       "0          2950  154\n",
       "1           760  361"
      ]
     },
     "execution_count": 42,
     "metadata": {},
     "output_type": "execute_result"
    }
   ],
   "source": [
    "#confusion matrix\n",
    "pd.crosstab(y_train, y_pred)"
   ]
  },
  {
   "cell_type": "code",
   "execution_count": 43,
   "id": "27f092f5-a5ef-4cd4-9a72-c3d2638036d1",
   "metadata": {
    "tags": []
   },
   "outputs": [
    {
     "name": "stdout",
     "output_type": "stream",
     "text": [
      "              precision    recall  f1-score   support\n",
      "\n",
      "           0       0.80      0.95      0.87      3104\n",
      "           1       0.70      0.32      0.44      1121\n",
      "\n",
      "    accuracy                           0.78      4225\n",
      "   macro avg       0.75      0.64      0.65      4225\n",
      "weighted avg       0.77      0.78      0.75      4225\n",
      "\n"
     ]
    }
   ],
   "source": [
    "print(classification_report(y_train, y_pred))"
   ]
  },
  {
   "cell_type": "code",
   "execution_count": 44,
   "id": "317e6f5c-f62f-4a76-9b33-d11772b94186",
   "metadata": {
    "tags": []
   },
   "outputs": [
    {
     "name": "stdout",
     "output_type": "stream",
     "text": [
      "Accuracy of Decision Tree classifier on training set: 0.78\n"
     ]
    }
   ],
   "source": [
    "print('Accuracy of Decision Tree classifier on training set: {:.2f}'\n",
    "      .format(tree.score(X_train, y_train)))"
   ]
  },
  {
   "cell_type": "code",
   "execution_count": 46,
   "id": "1be41400-e31b-472f-b28a-b0b413b51a75",
   "metadata": {
    "tags": []
   },
   "outputs": [
    {
     "name": "stdout",
     "output_type": "stream",
     "text": [
      "max depth of 1, the accuracy train = 0.7359, val = 0.7253\n",
      "max depth of 2, the accuracy train = 0.7837, val = 0.7878\n",
      "max depth of 3, the accuracy train = 0.7837, val = 0.7878\n",
      "max depth of 4, the accuracy train = 0.7922, val = 0.7779\n",
      "max depth of 5, the accuracy train = 0.8019, val = 0.7878\n",
      "max depth of 6, the accuracy train = 0.8097, val = 0.7878\n",
      "max depth of 7, the accuracy train = 0.823, val = 0.7878\n",
      "max depth of 8, the accuracy train = 0.8364, val = 0.7757\n",
      "max depth of 9, the accuracy train = 0.853, val = 0.7672\n",
      "max depth of 10, the accuracy train = 0.8779, val = 0.7651\n",
      "max depth of 11, the accuracy train = 0.8973, val = 0.7594\n",
      "max depth of 12, the accuracy train = 0.9176, val = 0.758\n",
      "max depth of 13, the accuracy train = 0.9321, val = 0.7502\n"
     ]
    }
   ],
   "source": [
    "for x in range(1,14):\n",
    "    #create the object\n",
    "    tree = DecisionTreeClassifier(max_depth=x, random_state=123)\n",
    "    \n",
    "    #fit the object\n",
    "    tree.fit(X_train, y_train) #fit only on TRAIN DATA!\n",
    "    \n",
    "    #calculate the accuracy for train\n",
    "    acc = tree.score(X_train, y_train)\n",
    "    \n",
    "    #calculate the accuracy for validate\n",
    "    acc_v = tree.score(X_validate, y_validate)\n",
    "    \n",
    "    print(f'max depth of {x}, the accuracy train = {round(acc,4)}, val = {round(acc_v,4)}')"
   ]
  },
  {
   "cell_type": "markdown",
   "id": "32953596-b81e-4d57-9e5b-80e11ddd3b11",
   "metadata": {},
   "source": [
    "**Random Tree**"
   ]
  },
  {
   "cell_type": "code",
   "execution_count": 24,
   "id": "6e3167d7-e600-40c5-b3bc-3cc74835e618",
   "metadata": {
    "tags": []
   },
   "outputs": [
    {
     "data": {
      "text/plain": [
       "array([0, 1, 0, 1, 0, 0, 1, 0, 0, 1])"
      ]
     },
     "execution_count": 24,
     "metadata": {},
     "output_type": "execute_result"
    }
   ],
   "source": [
    "rf = RandomForestClassifier(min_samples_leaf=1, max_depth=10, random_state = 123)\n",
    "rf.fit(X_train, y_train)\n",
    "y_pred = rf.predict(X_train)\n",
    "y_pred[:10]"
   ]
  },
  {
   "cell_type": "code",
   "execution_count": 25,
   "id": "cca8a751-2eb2-44d2-becc-c820cc127b5a",
   "metadata": {
    "tags": []
   },
   "outputs": [
    {
     "data": {
      "text/plain": [
       "0.8766863905325444"
      ]
     },
     "execution_count": 25,
     "metadata": {},
     "output_type": "execute_result"
    }
   ],
   "source": [
    "#accuracy score\n",
    "rf.score(X_train, y_train)"
   ]
  },
  {
   "cell_type": "code",
   "execution_count": 26,
   "id": "b8fd9c2b-bf8f-4fc9-84c9-effe1cc92f8f",
   "metadata": {
    "tags": []
   },
   "outputs": [
    {
     "data": {
      "text/html": [
       "<div>\n",
       "<style scoped>\n",
       "    .dataframe tbody tr th:only-of-type {\n",
       "        vertical-align: middle;\n",
       "    }\n",
       "\n",
       "    .dataframe tbody tr th {\n",
       "        vertical-align: top;\n",
       "    }\n",
       "\n",
       "    .dataframe thead th {\n",
       "        text-align: right;\n",
       "    }\n",
       "</style>\n",
       "<table border=\"1\" class=\"dataframe\">\n",
       "  <thead>\n",
       "    <tr style=\"text-align: right;\">\n",
       "      <th>col_0</th>\n",
       "      <th>0</th>\n",
       "      <th>1</th>\n",
       "    </tr>\n",
       "    <tr>\n",
       "      <th>churn_Yes</th>\n",
       "      <th></th>\n",
       "      <th></th>\n",
       "    </tr>\n",
       "  </thead>\n",
       "  <tbody>\n",
       "    <tr>\n",
       "      <th>0</th>\n",
       "      <td>2947</td>\n",
       "      <td>157</td>\n",
       "    </tr>\n",
       "    <tr>\n",
       "      <th>1</th>\n",
       "      <td>364</td>\n",
       "      <td>757</td>\n",
       "    </tr>\n",
       "  </tbody>\n",
       "</table>\n",
       "</div>"
      ],
      "text/plain": [
       "col_0         0    1\n",
       "churn_Yes           \n",
       "0          2947  157\n",
       "1           364  757"
      ]
     },
     "execution_count": 26,
     "metadata": {},
     "output_type": "execute_result"
    }
   ],
   "source": [
    "#confusion matrix\n",
    "pd.crosstab(y_train, y_pred)"
   ]
  },
  {
   "cell_type": "code",
   "execution_count": 27,
   "id": "1c659dac-3f3d-4629-a674-0d70129ffba0",
   "metadata": {
    "tags": []
   },
   "outputs": [
    {
     "name": "stdout",
     "output_type": "stream",
     "text": [
      "for min leaf samples = 1 and max depth = 10, the accuracy is 0.8767, val = 0.7502\n",
      "for min leaf samples = 2 and max depth = 9, the accuracy is 0.844, val = 0.7502\n",
      "for min leaf samples = 3 and max depth = 8, the accuracy is 0.8282, val = 0.7502\n",
      "for min leaf samples = 4 and max depth = 7, the accuracy is 0.8156, val = 0.7502\n",
      "for min leaf samples = 5 and max depth = 6, the accuracy is 0.8078, val = 0.7502\n",
      "for min leaf samples = 6 and max depth = 5, the accuracy is 0.8024, val = 0.7502\n",
      "for min leaf samples = 7 and max depth = 4, the accuracy is 0.7955, val = 0.7502\n",
      "for min leaf samples = 8 and max depth = 3, the accuracy is 0.7811, val = 0.7502\n",
      "for min leaf samples = 9 and max depth = 2, the accuracy is 0.7441, val = 0.7502\n",
      "for min leaf samples = 10 and max depth = 1, the accuracy is 0.7347, val = 0.7502\n"
     ]
    }
   ],
   "source": [
    "for x in range(1,11):\n",
    "    rf = RandomForestClassifier(min_samples_leaf=x, max_depth=11-x, random_state=123)\n",
    "\n",
    "    rf.fit(X_train, y_train)\n",
    "\n",
    "    y_pred = rf.predict(X_train)\n",
    "\n",
    "    acc = rf.score(X_train, y_train)\n",
    "    \n",
    "    acc_val = rf.score(X_validate, y_validate)\n",
    "    \n",
    "    print(f'for min leaf samples = {x} and max depth = {11-x}, the accuracy is {round(acc,4)}, val = {round(acc_v,4)}')"
   ]
  },
  {
   "cell_type": "markdown",
   "id": "455abe44-0ef0-4737-a43a-b8e916c22d42",
   "metadata": {},
   "source": [
    "**Linear Regression**"
   ]
  },
  {
   "cell_type": "code",
   "execution_count": 34,
   "id": "41ce8f6f-9210-4567-bb14-08b2f4421c2e",
   "metadata": {
    "tags": []
   },
   "outputs": [
    {
     "data": {
      "text/html": [
       "<div>\n",
       "<style scoped>\n",
       "    .dataframe tbody tr th:only-of-type {\n",
       "        vertical-align: middle;\n",
       "    }\n",
       "\n",
       "    .dataframe tbody tr th {\n",
       "        vertical-align: top;\n",
       "    }\n",
       "\n",
       "    .dataframe thead th {\n",
       "        text-align: right;\n",
       "    }\n",
       "</style>\n",
       "<table border=\"1\" class=\"dataframe\">\n",
       "  <thead>\n",
       "    <tr style=\"text-align: right;\">\n",
       "      <th></th>\n",
       "      <th>monthly_charges</th>\n",
       "      <th>tenure</th>\n",
       "      <th>senior_citizen</th>\n",
       "    </tr>\n",
       "  </thead>\n",
       "  <tbody>\n",
       "    <tr>\n",
       "      <th>2865</th>\n",
       "      <td>95.00</td>\n",
       "      <td>38</td>\n",
       "      <td>1</td>\n",
       "    </tr>\n",
       "    <tr>\n",
       "      <th>4107</th>\n",
       "      <td>70.35</td>\n",
       "      <td>2</td>\n",
       "      <td>1</td>\n",
       "    </tr>\n",
       "    <tr>\n",
       "      <th>3453</th>\n",
       "      <td>19.95</td>\n",
       "      <td>11</td>\n",
       "      <td>1</td>\n",
       "    </tr>\n",
       "    <tr>\n",
       "      <th>923</th>\n",
       "      <td>86.05</td>\n",
       "      <td>10</td>\n",
       "      <td>0</td>\n",
       "    </tr>\n",
       "    <tr>\n",
       "      <th>2370</th>\n",
       "      <td>60.00</td>\n",
       "      <td>43</td>\n",
       "      <td>0</td>\n",
       "    </tr>\n",
       "  </tbody>\n",
       "</table>\n",
       "</div>"
      ],
      "text/plain": [
       "      monthly_charges  tenure  senior_citizen\n",
       "2865            95.00      38               1\n",
       "4107            70.35       2               1\n",
       "3453            19.95      11               1\n",
       "923             86.05      10               0\n",
       "2370            60.00      43               0"
      ]
     },
     "execution_count": 34,
     "metadata": {},
     "output_type": "execute_result"
    }
   ],
   "source": [
    "features = ['monthly_charges','tenure','senior_citizen']\n",
    "X_train[features].head()"
   ]
  },
  {
   "cell_type": "code",
   "execution_count": 36,
   "id": "006f9da6-e022-40e7-8d7f-e8a286a3c8e6",
   "metadata": {
    "tags": []
   },
   "outputs": [
    {
     "data": {
      "text/plain": [
       "0.7898224852071006"
      ]
     },
     "execution_count": 36,
     "metadata": {},
     "output_type": "execute_result"
    }
   ],
   "source": [
    "lr = LogisticRegression()\n",
    "lr.fit(X_train[features], y_train)\n",
    "lr.score(X_train[features], y_train)"
   ]
  },
  {
   "cell_type": "code",
   "execution_count": 37,
   "id": "32bb2d3a-a2cd-48fa-9b13-7f316c6b71d7",
   "metadata": {
    "tags": []
   },
   "outputs": [
    {
     "data": {
      "text/plain": [
       "0.7346745562130178"
      ]
     },
     "execution_count": 37,
     "metadata": {},
     "output_type": "execute_result"
    }
   ],
   "source": [
    "features = ['total_charges','tenure','senior_citizen']\n",
    "X_train[features].head()\n",
    "lr = LogisticRegression()\n",
    "lr.fit(X_train[features], y_train)\n",
    "lr.score(X_train[features], y_train)"
   ]
  },
  {
   "cell_type": "code",
   "execution_count": 38,
   "id": "3a912955-db92-44c6-a32b-484ca5d53e64",
   "metadata": {
    "tags": []
   },
   "outputs": [
    {
     "data": {
      "text/plain": [
       "0.7604733727810651"
      ]
     },
     "execution_count": 38,
     "metadata": {},
     "output_type": "execute_result"
    }
   ],
   "source": [
    "features = ['monthly_charges','total_charges','tenure','senior_citizen']\n",
    "X_train[features].head()\n",
    "lr = LogisticRegression()\n",
    "lr.fit(X_train[features], y_train)\n",
    "lr.score(X_train[features], y_train)"
   ]
  },
  {
   "cell_type": "code",
   "execution_count": 39,
   "id": "81c1ddd0-b1cd-40af-a532-13a431d7b736",
   "metadata": {
    "tags": []
   },
   "outputs": [
    {
     "data": {
      "text/plain": [
       "0.7820118343195266"
      ]
     },
     "execution_count": 39,
     "metadata": {},
     "output_type": "execute_result"
    }
   ],
   "source": [
    "features = ['monthly_charges','paperless_billing_Yes','tenure','senior_citizen']\n",
    "X_train[features].head()\n",
    "lr = LogisticRegression()\n",
    "lr.fit(X_train[features], y_train)\n",
    "lr.score(X_train[features], y_train)"
   ]
  },
  {
   "cell_type": "code",
   "execution_count": null,
   "id": "75643451-0b42-4cad-b1e8-561a24be2faf",
   "metadata": {},
   "outputs": [],
   "source": []
  }
 ],
 "metadata": {
  "kernelspec": {
   "display_name": "Python 3 (ipykernel)",
   "language": "python",
   "name": "python3"
  },
  "language_info": {
   "codemirror_mode": {
    "name": "ipython",
    "version": 3
   },
   "file_extension": ".py",
   "mimetype": "text/x-python",
   "name": "python",
   "nbconvert_exporter": "python",
   "pygments_lexer": "ipython3",
   "version": "3.11.5"
  }
 },
 "nbformat": 4,
 "nbformat_minor": 5
}
